{
 "cells": [
  {
   "cell_type": "code",
   "execution_count": 24,
   "id": "ae49f113-84c3-4c3f-9ef3-6185b7e97711",
   "metadata": {},
   "outputs": [],
   "source": [
    "import numpy as np\n",
    "import pandas as pd\n",
    "\n",
    "import os\n",
    "import shutil\n",
    "\n",
    "import librosa\n",
    "import soundfile as sf\n",
    "import time"
   ]
  },
  {
   "cell_type": "code",
   "execution_count": 25,
   "id": "010b2e55-23d4-489c-8be3-763ebf135763",
   "metadata": {},
   "outputs": [],
   "source": [
    "train_dir = 'Train_submission/Train_submission'\n",
    "\n",
    "train_names=[]\n",
    "for dirname, _, filenames in os.walk(train_dir):\n",
    "    for filename in filenames:\n",
    "        if filename[-4:]=='.wav':\n",
    "            train_names+=[filename]\n",
    "\n",
    "Metadata_Train = pd.read_csv('Metadata_Train.csv')\n",
    "for index, row in Metadata_Train.iterrows():\n",
    "    file_name = row['FileName']\n",
    "    class_label = row['Class']\n",
    "    if class_label=='Sound_Drum' or class_label=='Sound_Guitar' or class_label=='Sound_Piano':\n",
    "        if row['FileName'] in train_names:\n",
    "            train_names.remove(row['FileName'])\n",
    "    \n",
    "counter=0 \n",
    "for index, row in Metadata_Train.iterrows():\n",
    "    if row['Class']=='Sound_Violin':\n",
    "        Metadata_Train.loc[index, \"FileName\"]=train_names[counter]\n",
    "        counter+=1\n",
    "\n",
    "Metadata_Train.head(1000)\n",
    "\n",
    "Metadata_Train.to_csv('New_Metadata_Train.csv')"
   ]
  },
  {
   "cell_type": "code",
   "execution_count": 5,
   "id": "b8c4fd23-b03b-42ed-8318-c39440d877fd",
   "metadata": {},
   "outputs": [],
   "source": [
    "def create_folder_if_not_exists(folder_path):\n",
    "    if not os.path.exists(folder_path):\n",
    "        os.makedirs(folder_path)"
   ]
  },
  {
   "cell_type": "code",
   "execution_count": 9,
   "id": "15da9129-5e10-41af-a092-7628a9124d9f",
   "metadata": {},
   "outputs": [
    {
     "name": "stdout",
     "output_type": "stream",
     "text": [
      "+++++++++++++++++++++++++++++++++++++++++++++++++++++++++++++++++++++++++++++++++++++++++++++++++++++++++++++++++++++++++++++++++++++++++++++++++++++++++++++++++++++++++++++++++++++++++++++++++++++++++++++++++++++++++++++++++++++++++++++++++++++++++++++++++++++++++++++++++++++++++++++++++++++++++++++++++++++++++++++++++++++++++++++++++++++++++++++++++++++++++++++++++++++++++++++++++++++++++++++++++++++++++++++++++++++++++++++++++++++++++++++++++++++++++++++++++++++++++++++++++++++++++++++++++++++++++++++++++++++++++++++++++++++++++++++++++++++++++++++++++++++++++++++++++++++++++++++++++++++++++++++++++++++++++++++++++++++++++++++++++++++++++++++++++++++++++++++++++++++++++++++++++++++++++++++++++++++++++++++++++++++++++++++++++++++++++++++++++++++++++++++++++++++++++++++++++++++++++++++++++++++++++++++++++++++++++++++++++++++++++++++++++++++++++++++++++++++++++++++++++++++++++++++++++++++++++++++++++++++++++++++++++++++++++++++++++++++++++++++++++++++++++++++++++++++++++++++++++++++++++++++++++++++++++++++++++++++++++++++++++++++++++++++++++++++++++++++++++++++++++++++++++++++++++++++++++++++++++++++++++++++++++++++++++++++++++++++++++++++++++++++++++++++++++++++++++++++++++++++++++++++++++++++++++++++++++++++++++++++++++++++++++++++++++++++++++++++++++++++++++++++++++++++++++++++++++++++++++++++++++++++++++++++++++++++++++++++++++++++++++++++++++++++++++++++++++++++++++++++++++++++++++++++++++++++++++++++++++++++++++++++++++++++++++++++++++++++++++++++++++++++++++++++++++++++++++++++++++++++++++++++++++++++++++++++++++++++++++++++++++++++++++++++++++++++++++++++++++++++++++++++++++++++++++++++++++++++++++++++++++++++++++++++++++++++++++++++++++++++++++++++++++++++++++++++++++++++++++++++++++++++++++++++++++++++++++++++++++++++++++++++++++++++++++++++++++++++++++++++++++++++++++++++++++++++++++++++++++++++++++++++++++++++++++++++++++++++++++++++++++++++++++++++++++++++++++++++++++++++++++++++++++++++++++++++++++++++++++++++++++++++++++++++++++++++++++++++++++++++++++++++++++++++++++++++++++++++++++++++++++++++++++++++++++++++++++++++++++++++++++++++++++++++++++++++++++++++++++++++++++++++++++++++++++++++++++++++++++++++++++++++++++++++++++++++++++++++++++++++++++++++++++++++++++++++++++++++++++++++++++++++++++++++++++++++++++++++++++++++++++++++++++++++++++++++++++++++++++++++++++++++++++++++++++++++++++++++++++++++++++++++++++++++++++++++++++++++++++++++++++++++++++++++++++++++++++++++++++++++++++++++++++++++++++++++++++++++++++++++++++++++++++++++++++++++++++++++++++++++++++++++++++++++++++++++++++++++++++++++++++++++++++++++++++++++++++++++++++++++++++++++++++++++++++++++++++++++All files have been moved.\n"
     ]
    }
   ],
   "source": [
    "source_dir = 'Train_submission/Train_submission'   \n",
    "\n",
    "Metadata_Train = pd.read_csv('New_Metadata_Train.csv')\n",
    "\n",
    "create_folder_if_not_exists('New_Train')\n",
    "destination_dir = 'New_Train'\n",
    "\n",
    "for index, row in Metadata_Train.iterrows():\n",
    "    file_name = row['FileName']\n",
    "    class_label = row['Class']\n",
    "    \n",
    "    source_file = os.path.join(source_dir, file_name)\n",
    "    \n",
    "    destination_folder = os.path.join(destination_dir, class_label)\n",
    "    create_folder_if_not_exists(destination_folder)\n",
    "    \n",
    "    if os.path.exists(source_file):\n",
    "        shutil.copy(source_file, destination_folder)\n",
    "        print(\"+\",end=\"\")\n",
    "    else:\n",
    "        print(\"_\",end=\"\")\n",
    "\n",
    "print('All files have been moved.')"
   ]
  },
  {
   "cell_type": "code",
   "execution_count": 15,
   "id": "28c16c7f-adea-403b-8288-911dbf0b707b",
   "metadata": {},
   "outputs": [
    {
     "name": "stdout",
     "output_type": "stream",
     "text": [
      "++++++++++++++++++++++++++++++++++++++++++++++++++++++++++++++++++++++++++++++++All files have been moved.\n"
     ]
    }
   ],
   "source": [
    "source_dir_test = 'Test_submission/Test_submission'\n",
    "\n",
    "create_folder_if_not_exists('New_Test')\n",
    "destination_dir_test = 'New_Test'\n",
    "\n",
    "Metadata_Test = pd.read_csv('Metadata_Test.csv')\n",
    "\n",
    "for index, row in Metadata_Test.iterrows():\n",
    "    file_name = row['FileName']\n",
    "    class_label = row['Class']\n",
    "    \n",
    "    source_file_test = os.path.join(source_dir_test, file_name)\n",
    "    \n",
    "    destination_folder_test = os.path.join(destination_dir_test, class_label)\n",
    "    create_folder_if_not_exists(destination_folder_test)\n",
    "    \n",
    "    if os.path.exists(source_file_test):\n",
    "        shutil.copy(source_file_test, destination_folder_test)\n",
    "        print(\"+\",end=\"\")\n",
    "    else:\n",
    "        print(\"_\",end=\"\")\n",
    "\n",
    "print('All files have been moved.')"
   ]
  },
  {
   "cell_type": "code",
   "execution_count": 22,
   "id": "c59c4364-ac4c-4c68-9b64-382718c0893b",
   "metadata": {},
   "outputs": [
    {
     "name": "stdout",
     "output_type": "stream",
     "text": [
      "+++++++++++++++++++++++++++++++++++++++++++++++++++++++++++++++++++++++++++++++++++++++++++++++++++++++++++++++++++++++++++++++++++++++++++++++++++++++++++++++++++++++++++++++++++++++++++++++++++++++++++++++++++++++++++++++++++++++++++++++++++++++++++++++++++++++++++++++++++++++++++++++++++++++++++++++++++++++++++++++++++++++++++++++++++++++++++++++++++++++++++++++++++++++++++++++++++++++++++++++++++++++++++++++++++++++++++++++++++++++++++++++++++++++++++++++++++++++++++++++++++++++++++++++++++++++++++++++++++++++++++++++++++++++++++++++++++++++++++++++++++++++++++++++++++++++++++++++++++++++++++++++++++++++++++++++++++++++++++++++++++++++++++++++++++++++++++++++++++++++++++++++++++++++++++++++++++++++++++++++++++++++++++++++++++++++++++++++++++++++++++++++++++++++++++++++++++++++++++++++++++++++++++++++++++++++++++++++++++++++++++++++++++++++++++++++++++++++++++++++++++++++++++++++++++++++++++++++++++++++++++++++++++++++++++++++++++++++++++++++++++++++++++++++++++++++++++++++++++++++++++++++++++++++++++++++++++++++++++++++++++++++++++++++++++++++++++++++++++++++++++++++++++++++++++++++++++++++++++++++++++++++++++++++++++++++++++++++++++++++++++++++++++++++++++++++++++++++++++++++++++++++++++++++++++++++++++++++++++++++++++++++++++++++++++++++++++++++++++++++++++++++++++++++++++++++++++++++++++++++++++++++++++++++++++++++++++++++++++++++++++++++++++++++++++++++++++++++++++++++++++++++++++++++++++++++++++++++++++++++++++++++++++++++++++++++++++++++++++++++++++++++++++++++++++++++++++++++++++++++++++++++++++++++++++++++++++++++++++++++++++++++++++++++++++++++++++++++++++++++++++++++++++++++++++++++++++++++++++++++++++++++++++++++++++++++++++++++++++++++++++++++++++++++++++++++++++++++++++++++++++++++++++++++++++++++++++++++++++++++++++++++++++++++++++++++++++++++++++++++++++++++++++++++++++++++++++++++++++++++++++++++++++++++++++++++++++++++++++++++++++++++++++++++++++++++++++++++++++++++++++++++++++++++++++++++++++++++++++++++++++++++++++++++++++++++++++++++++++++++++++++++++++++++++++++++++++++++++++++++++++++++++++++++++++++++++++++++++++++++++++++++++++++++++++++++++++++++++++++++++++++++++++++++++++++++++++++++++++++++++++++++++++++++++++++++++++++++++++++++++++++++++++++++++++++++++++++++++++++++++++++++++++++++++++++++++++++++++++++++++++++++++++++++++++++++++++++++++++++++++++++++++++++++++++++++++++++++++++++++++++++++++++++++++++++++++++++++++++++++++++++++++++++++++++++++++++++++++++++++++++++++++++++++++++++++++++++++++++++++++++++++++++++++++++++++++++++++++++++++++++++++++++++++++++++++++++++++++++++++++++++++++++++++++++++++++++++++++++++++++++++++++++++++++++++++++++++++++++++++++++++++++++++++++++++++++++++++++++++++++++++++++++++++++++++++++++++"
     ]
    }
   ],
   "source": [
    "def check_audio_files(data_dir):\n",
    "    for root, dirs, files in os.walk(data_dir):\n",
    "        for file in files:\n",
    "            if file.endswith('.wav'):\n",
    "                file_path = os.path.join(root, file)\n",
    "                with sf.SoundFile(file_path) as f:\n",
    "                    if len(f) == 0:\n",
    "                        print(\".\",end=\"\")\n",
    "                    else:\n",
    "                        print(\"+\",end=\"\")\n",
    "                            \n",
    "check_audio_files(destination_dir)\n",
    "check_audio_files(destination_dir_test)"
   ]
  },
  {
   "cell_type": "code",
   "execution_count": 26,
   "id": "e2a28cee-a6f3-4df9-9584-d46f4a39d512",
   "metadata": {},
   "outputs": [],
   "source": [
    "def convert_to_mono(input_path, output_path):\n",
    "    y, sr = librosa.load(input_path, sr=None, mono=False)\n",
    "    if y.ndim > 1:\n",
    "        y = librosa.to_mono(y)\n",
    "    sf.write(output_path, y, sr)\n",
    "\n",
    "def preprocess_audio_files(root_directory):\n",
    "    for root, dirs, files in os.walk(root_directory):\n",
    "        for file in files:\n",
    "            if file.endswith('.wav'):\n",
    "                file_path = os.path.join(root, file)\n",
    "                temp_path = os.path.join(root, 'temp_' + file)\n",
    "                \n",
    "                # Convert to mono if needed\n",
    "                convert_to_mono(file_path, temp_path)\n",
    "                \n",
    "                # Replace original file with the mono file\n",
    "                os.remove(file_path)\n",
    "                os.rename(temp_path, file_path)\n",
    "\n",
    "preprocess_audio_files(destination_dir)\n",
    "preprocess_audio_files(destination_dir_test)"
   ]
  }
 ],
 "metadata": {
  "kernelspec": {
   "display_name": "Python 3 (ipykernel)",
   "language": "python",
   "name": "python3"
  },
  "language_info": {
   "codemirror_mode": {
    "name": "ipython",
    "version": 3
   },
   "file_extension": ".py",
   "mimetype": "text/x-python",
   "name": "python",
   "nbconvert_exporter": "python",
   "pygments_lexer": "ipython3",
   "version": "3.10.4"
  }
 },
 "nbformat": 4,
 "nbformat_minor": 5
}
